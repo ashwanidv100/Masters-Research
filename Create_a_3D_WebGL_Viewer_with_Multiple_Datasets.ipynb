{
  "nbformat": 4,
  "nbformat_minor": 0,
  "metadata": {
    "colab": {
      "name": "Create a 3D WebGL Viewer with Multiple Datasets.ipynb",
      "provenance": [],
      "collapsed_sections": [],
      "authorship_tag": "ABX9TyPBtPS8Tx6H+/eAzMOcpWdM"
    },
    "kernelspec": {
      "name": "python3",
      "display_name": "Python 3"
    },
    "language_info": {
      "name": "python"
    }
  },
  "cells": [
    {
      "cell_type": "markdown",
      "source": [
        "A webgl viewer displays a 3D view of brain data in a web browser\n",
        "\n",
        "Multiple datasets can be loaded into the same viewer\n",
        "\n",
        "The priority kwarg passed to Volume objects determines the display ordering\n",
        "\n",
        "Lower values of priority are displayed first\n",
        "\n",
        "In the browser you can switch between datasets with the + and - keys"
      ],
      "metadata": {
        "id": "E8jlxHfUcTnB"
      }
    },
    {
      "cell_type": "code",
      "source": [
        "!pip install sphinx_gallery numpydoc"
      ],
      "metadata": {
        "colab": {
          "base_uri": "https://localhost:8080/"
        },
        "id": "6zOgkMscX_uA",
        "outputId": "a7c41c12-8808-48e0-ac25-fb5ac65e00c1"
      },
      "execution_count": 1,
      "outputs": [
        {
          "output_type": "stream",
          "name": "stdout",
          "text": [
            "Looking in indexes: https://pypi.org/simple, https://us-python.pkg.dev/colab-wheels/public/simple/\n",
            "Requirement already satisfied: sphinx_gallery in /usr/local/lib/python3.7/dist-packages (0.10.1)\n",
            "Requirement already satisfied: numpydoc in /usr/local/lib/python3.7/dist-packages (1.4.0)\n",
            "Requirement already satisfied: sphinx>=1.8.3 in /usr/local/lib/python3.7/dist-packages (from sphinx_gallery) (5.0.2)\n",
            "Requirement already satisfied: sphinxcontrib-devhelp in /usr/local/lib/python3.7/dist-packages (from sphinx>=1.8.3->sphinx_gallery) (1.0.2)\n",
            "Requirement already satisfied: docutils<0.19,>=0.14 in /usr/local/lib/python3.7/dist-packages (from sphinx>=1.8.3->sphinx_gallery) (0.17.1)\n",
            "Requirement already satisfied: requests>=2.5.0 in /usr/local/lib/python3.7/dist-packages (from sphinx>=1.8.3->sphinx_gallery) (2.23.0)\n",
            "Requirement already satisfied: packaging in /usr/local/lib/python3.7/dist-packages (from sphinx>=1.8.3->sphinx_gallery) (21.3)\n",
            "Requirement already satisfied: sphinxcontrib-serializinghtml>=1.1.5 in /usr/local/lib/python3.7/dist-packages (from sphinx>=1.8.3->sphinx_gallery) (1.1.5)\n",
            "Requirement already satisfied: babel>=1.3 in /usr/local/lib/python3.7/dist-packages (from sphinx>=1.8.3->sphinx_gallery) (2.10.3)\n",
            "Requirement already satisfied: imagesize in /usr/local/lib/python3.7/dist-packages (from sphinx>=1.8.3->sphinx_gallery) (1.4.1)\n",
            "Requirement already satisfied: alabaster<0.8,>=0.7 in /usr/local/lib/python3.7/dist-packages (from sphinx>=1.8.3->sphinx_gallery) (0.7.12)\n",
            "Requirement already satisfied: sphinxcontrib-htmlhelp>=2.0.0 in /usr/local/lib/python3.7/dist-packages (from sphinx>=1.8.3->sphinx_gallery) (2.0.0)\n",
            "Requirement already satisfied: sphinxcontrib-applehelp in /usr/local/lib/python3.7/dist-packages (from sphinx>=1.8.3->sphinx_gallery) (1.0.2)\n",
            "Requirement already satisfied: sphinxcontrib-qthelp in /usr/local/lib/python3.7/dist-packages (from sphinx>=1.8.3->sphinx_gallery) (1.0.3)\n",
            "Requirement already satisfied: snowballstemmer>=1.1 in /usr/local/lib/python3.7/dist-packages (from sphinx>=1.8.3->sphinx_gallery) (2.2.0)\n",
            "Requirement already satisfied: sphinxcontrib-jsmath in /usr/local/lib/python3.7/dist-packages (from sphinx>=1.8.3->sphinx_gallery) (1.0.1)\n",
            "Requirement already satisfied: Pygments>=2.0 in /usr/local/lib/python3.7/dist-packages (from sphinx>=1.8.3->sphinx_gallery) (2.6.1)\n",
            "Requirement already satisfied: importlib-metadata>=4.4 in /usr/local/lib/python3.7/dist-packages (from sphinx>=1.8.3->sphinx_gallery) (4.12.0)\n",
            "Requirement already satisfied: Jinja2>=2.3 in /usr/local/lib/python3.7/dist-packages (from sphinx>=1.8.3->sphinx_gallery) (2.11.3)\n",
            "Requirement already satisfied: pytz>=2015.7 in /usr/local/lib/python3.7/dist-packages (from babel>=1.3->sphinx>=1.8.3->sphinx_gallery) (2022.1)\n",
            "Requirement already satisfied: typing-extensions>=3.6.4 in /usr/local/lib/python3.7/dist-packages (from importlib-metadata>=4.4->sphinx>=1.8.3->sphinx_gallery) (4.1.1)\n",
            "Requirement already satisfied: zipp>=0.5 in /usr/local/lib/python3.7/dist-packages (from importlib-metadata>=4.4->sphinx>=1.8.3->sphinx_gallery) (3.8.0)\n",
            "Requirement already satisfied: MarkupSafe>=0.23 in /usr/local/lib/python3.7/dist-packages (from Jinja2>=2.3->sphinx>=1.8.3->sphinx_gallery) (2.0.1)\n",
            "Requirement already satisfied: certifi>=2017.4.17 in /usr/local/lib/python3.7/dist-packages (from requests>=2.5.0->sphinx>=1.8.3->sphinx_gallery) (2022.6.15)\n",
            "Requirement already satisfied: chardet<4,>=3.0.2 in /usr/local/lib/python3.7/dist-packages (from requests>=2.5.0->sphinx>=1.8.3->sphinx_gallery) (3.0.4)\n",
            "Requirement already satisfied: urllib3!=1.25.0,!=1.25.1,<1.26,>=1.21.1 in /usr/local/lib/python3.7/dist-packages (from requests>=2.5.0->sphinx>=1.8.3->sphinx_gallery) (1.24.3)\n",
            "Requirement already satisfied: idna<3,>=2.5 in /usr/local/lib/python3.7/dist-packages (from requests>=2.5.0->sphinx>=1.8.3->sphinx_gallery) (2.10)\n",
            "Requirement already satisfied: pyparsing!=3.0.5,>=2.0.2 in /usr/local/lib/python3.7/dist-packages (from packaging->sphinx>=1.8.3->sphinx_gallery) (3.0.9)\n"
          ]
        }
      ]
    },
    {
      "cell_type": "code",
      "source": [
        "# First, install some required dependencies (if not already installed)\n",
        "!pip install -U setuptools wheel numpy cython\n",
        "# Install the latest release of pycortex from pip\n",
        "!pip install -U pycortex"
      ],
      "metadata": {
        "colab": {
          "base_uri": "https://localhost:8080/"
        },
        "id": "viD1A81bYCiS",
        "outputId": "ec566468-79db-4c93-9c81-fe58de61cc42"
      },
      "execution_count": 2,
      "outputs": [
        {
          "output_type": "stream",
          "name": "stdout",
          "text": [
            "Looking in indexes: https://pypi.org/simple, https://us-python.pkg.dev/colab-wheels/public/simple/\n",
            "Requirement already satisfied: setuptools in /usr/local/lib/python3.7/dist-packages (63.2.0)\n",
            "Requirement already satisfied: wheel in /usr/local/lib/python3.7/dist-packages (0.37.1)\n",
            "Requirement already satisfied: numpy in /usr/local/lib/python3.7/dist-packages (1.21.6)\n",
            "Requirement already satisfied: cython in /usr/local/lib/python3.7/dist-packages (0.29.30)\n",
            "Looking in indexes: https://pypi.org/simple, https://us-python.pkg.dev/colab-wheels/public/simple/\n",
            "Collecting pycortex\n",
            "  Using cached pycortex-1.2.5.tar.gz (37.2 MB)\n",
            "  Installing build dependencies ... \u001b[?25l\u001b[?25hdone\n",
            "  Getting requirements to build wheel ... \u001b[?25l\u001b[?25hdone\n",
            "    Preparing wheel metadata ... \u001b[?25l\u001b[?25hdone\n",
            "Requirement already satisfied: future in /usr/local/lib/python3.7/dist-packages (from pycortex) (0.16.0)\n",
            "Requirement already satisfied: tornado>=4.3 in /usr/local/lib/python3.7/dist-packages (from pycortex) (5.1.1)\n",
            "Requirement already satisfied: networkx>=2.1 in /usr/local/lib/python3.7/dist-packages (from pycortex) (2.6.3)\n",
            "Requirement already satisfied: pillow in /usr/local/lib/python3.7/dist-packages (from pycortex) (7.1.2)\n",
            "Requirement already satisfied: six in /usr/local/lib/python3.7/dist-packages (from pycortex) (1.15.0)\n",
            "Requirement already satisfied: matplotlib in /usr/local/lib/python3.7/dist-packages (from pycortex) (3.2.2)\n",
            "Requirement already satisfied: shapely in /usr/local/lib/python3.7/dist-packages (from pycortex) (1.8.2)\n",
            "Requirement already satisfied: h5py in /usr/local/lib/python3.7/dist-packages (from pycortex) (3.1.0)\n",
            "Requirement already satisfied: imageio in /usr/local/lib/python3.7/dist-packages (from pycortex) (2.4.1)\n",
            "Requirement already satisfied: scipy in /usr/local/lib/python3.7/dist-packages (from pycortex) (1.7.3)\n",
            "Requirement already satisfied: lxml in /usr/local/lib/python3.7/dist-packages (from pycortex) (4.2.6)\n",
            "Requirement already satisfied: cython in /usr/local/lib/python3.7/dist-packages (from pycortex) (0.29.30)\n",
            "Requirement already satisfied: numpy in /usr/local/lib/python3.7/dist-packages (from pycortex) (1.21.6)\n",
            "Requirement already satisfied: html5lib in /usr/local/lib/python3.7/dist-packages (from pycortex) (1.0.1)\n",
            "Requirement already satisfied: numexpr in /usr/local/lib/python3.7/dist-packages (from pycortex) (2.8.3)\n",
            "Requirement already satisfied: nibabel in /usr/local/lib/python3.7/dist-packages (from pycortex) (3.0.2)\n",
            "Collecting wget\n",
            "  Downloading wget-3.2.zip (10 kB)\n",
            "Requirement already satisfied: cached-property in /usr/local/lib/python3.7/dist-packages (from h5py->pycortex) (1.5.2)\n",
            "Requirement already satisfied: webencodings in /usr/local/lib/python3.7/dist-packages (from html5lib->pycortex) (0.5.1)\n",
            "Requirement already satisfied: kiwisolver>=1.0.1 in /usr/local/lib/python3.7/dist-packages (from matplotlib->pycortex) (1.4.3)\n",
            "Requirement already satisfied: pyparsing!=2.0.4,!=2.1.2,!=2.1.6,>=2.0.1 in /usr/local/lib/python3.7/dist-packages (from matplotlib->pycortex) (3.0.9)\n",
            "Requirement already satisfied: cycler>=0.10 in /usr/local/lib/python3.7/dist-packages (from matplotlib->pycortex) (0.11.0)\n",
            "Requirement already satisfied: python-dateutil>=2.1 in /usr/local/lib/python3.7/dist-packages (from matplotlib->pycortex) (2.8.2)\n",
            "Requirement already satisfied: typing-extensions in /usr/local/lib/python3.7/dist-packages (from kiwisolver>=1.0.1->matplotlib->pycortex) (4.1.1)\n",
            "Requirement already satisfied: packaging in /usr/local/lib/python3.7/dist-packages (from numexpr->pycortex) (21.3)\n",
            "Building wheels for collected packages: pycortex, wget\n",
            "  Building wheel for pycortex (PEP 517) ... \u001b[?25l\u001b[?25hdone\n",
            "  Created wheel for pycortex: filename=pycortex-1.2.5-cp37-cp37m-linux_x86_64.whl size=37768358 sha256=6a66e9ea0c0a65d2d563de271175c9e9682a16635242284427b4c020faa7caa8\n",
            "  Stored in directory: /root/.cache/pip/wheels/c7/53/56/b289d2626476f9c1dea0ee82f8ee18d7bed57fbd0cc665e60e\n",
            "  Building wheel for wget (setup.py) ... \u001b[?25l\u001b[?25hdone\n",
            "  Created wheel for wget: filename=wget-3.2-py3-none-any.whl size=9657 sha256=bec8d3cfc0419f8af1d59e4e62f925610b8ac43a2f0bb067fe0afd8538f15250\n",
            "  Stored in directory: /root/.cache/pip/wheels/a1/b6/7c/0e63e34eb06634181c63adacca38b79ff8f35c37e3c13e3c02\n",
            "Successfully built pycortex wget\n",
            "Installing collected packages: wget, pycortex\n",
            "Successfully installed pycortex-1.2.5 wget-3.2\n"
          ]
        }
      ]
    },
    {
      "cell_type": "code",
      "source": [
        "!pip install cortex"
      ],
      "metadata": {
        "colab": {
          "base_uri": "https://localhost:8080/"
        },
        "id": "jZi7n-IjWsSH",
        "outputId": "edeb37eb-481b-46f4-fa28-dea54ed96c55"
      },
      "execution_count": 3,
      "outputs": [
        {
          "output_type": "stream",
          "name": "stdout",
          "text": [
            "Looking in indexes: https://pypi.org/simple, https://us-python.pkg.dev/colab-wheels/public/simple/\n",
            "Requirement already satisfied: cortex in /usr/local/lib/python3.7/dist-packages (0.42.0)\n",
            "Requirement already satisfied: sentry-sdk>=1.4.3 in /usr/local/lib/python3.7/dist-packages (from cortex) (1.7.2)\n",
            "Requirement already satisfied: pyyaml>=5.4.1 in /usr/local/lib/python3.7/dist-packages (from cortex) (6.0)\n",
            "Requirement already satisfied: certifi in /usr/local/lib/python3.7/dist-packages (from sentry-sdk>=1.4.3->cortex) (2022.6.15)\n",
            "Requirement already satisfied: urllib3>=1.10.0 in /usr/local/lib/python3.7/dist-packages (from sentry-sdk>=1.4.3->cortex) (1.24.3)\n"
          ]
        }
      ]
    },
    {
      "cell_type": "code",
      "source": [
        "%matplotlib inline"
      ],
      "metadata": {
        "id": "rHfO6jFqXDEn"
      },
      "execution_count": 4,
      "outputs": []
    },
    {
      "cell_type": "code",
      "source": [
        "!pip install --upgrade jupyter_http_over_ws>=0.0.7 && \\\n",
        "  jupyter serverextension enable --py jupyter_http_over_ws"
      ],
      "metadata": {
        "colab": {
          "base_uri": "https://localhost:8080/"
        },
        "id": "U3TrSa7RaRCp",
        "outputId": "058956fa-97f6-420e-a80a-efadc9456097"
      },
      "execution_count": 6,
      "outputs": [
        {
          "output_type": "stream",
          "name": "stdout",
          "text": [
            "Enabling: jupyter_http_over_ws\n",
            "- Writing config: /root/.jupyter\n",
            "    - Validating...\n",
            "      jupyter_http_over_ws  \u001b[32mOK\u001b[0m\n"
          ]
        }
      ]
    },
    {
      "cell_type": "code",
      "source": [
        "import cortex\n",
        "\n",
        "import numpy as np\n",
        "np.random.seed(1234)\n",
        "\n",
        "# gather multiple datasets\n",
        "volume1 = cortex.Volume.random(subject='S1', xfmname='fullhead', priority=1)\n",
        "volume2 = cortex.Volume.random(subject='S1', xfmname='fullhead', priority=2)\n",
        "volume3 = cortex.Volume.random(subject='S1', xfmname='fullhead', priority=3)\n",
        "volumes = {\n",
        "    'First Dataset': volume1,\n",
        "    'Second Dataset': volume2,\n",
        "    'Third Dataset': volume3,\n",
        "}\n",
        "\n",
        "# create viewer\n",
        "cortex.webgl.show(data=volumes)\n",
        "\n",
        "# a port number will then be output, for example \"Started server on port 39140\"\n",
        "# the viewer can then be accessed in a web browser, in this case at \"localhost:39140\""
      ],
      "metadata": {
        "id": "Q2SzWAEjX7_o"
      },
      "execution_count": null,
      "outputs": []
    }
  ]
}